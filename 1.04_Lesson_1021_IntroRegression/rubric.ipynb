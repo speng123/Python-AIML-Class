{
 "cells": [
  {
   "cell_type": "markdown",
   "metadata": {},
   "source": [
    "# ![](https://ga-dash.s3.amazonaws.com/production/assets/logo-9f88ae6c9c3871690e33280fcf557f33.png) RUBRIC\n",
    "**Project 1 | Data Science** \t \t\t\t\t\t\t\n",
    "\n",
    "Your project will be assessed using the following standards, as defined by the data science workflow:\n",
    "\n",
    "- **Identify & Acquire**\n",
    "\n",
    "Acceptable performance for this standard is based on how well you've applied specific learning goals within your deliverable. To review the full list of data science standards, see the course syllabus.\n",
    "\n",
    "---\n",
    "\n",
    "## IDENTIFY & ACQUIRE\n",
    "**Meets Expectations**: Did you: Demonstrate comprehension of project objectives? Articulate the goals and criteria for success? Create guiding questions to identify data and potential methods of analysis? Application of these learning goals will be assessed using the requirements below:\n",
    "\n",
    "#### Performance Evaluation\n",
    "> Mark boxes with an 'X'\n",
    "\n",
    "| Requirements | Incomplete (0) | Does Not Meet Expectations (1) | Meets Expectations (2) |\n",
    "|---|---|---|---|\n",
    "| Create a data dictionary with classification of available variables | | |  |\n",
    "| Correctly identify features of the dataset, including the outcome and covariates/predictors | | |  |\n",
    "| Write a high-quality problem statement for the admissions dataset |  | | |\n",
    "| Examine distributions for normality and outliers | | | |\n",
    "| Outline exploratory analysis methods | | |  |\n",
    "\n",
    "Notes:\n",
    "\n",
    "---\n",
    "\n",
    "## Score:\n",
    "Based on the requirements, you can earn a maximum of  **10**  points on this project. \n",
    "\n",
    "#### Your total score is: **#**\n",
    "\n",
    "\n",
    "\n",
    "---\n",
    "\n",
    "## PROGRESS REPORT\n",
    "**Student Check-in:**\n",
    "\n",
    "|HIGHLIGHTS|GROWTH OPPORTUNITIES|DEVELOPMENT PLAN|\n",
    "|---|---|---|\n",
    "| | | |\n",
    "\n"
   ]
  }
 ],
 "metadata": {
  "kernelspec": {
   "display_name": "Python 3",
   "language": "python",
   "name": "python3"
  },
  "language_info": {
   "codemirror_mode": {
    "name": "ipython",
    "version": 3
   },
   "file_extension": ".py",
   "mimetype": "text/x-python",
   "name": "python",
   "nbconvert_exporter": "python",
   "pygments_lexer": "ipython3",
   "version": "3.7.3"
  }
 },
 "nbformat": 4,
 "nbformat_minor": 4
}
