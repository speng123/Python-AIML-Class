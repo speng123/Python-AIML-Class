{
 "cells": [
  {
   "cell_type": "markdown",
   "metadata": {},
   "source": [
    "### Challenge 1: Multiples of 3 and 5\n",
    "If we list all of the natural numbers below 10 that are multiples of 3 or 5, we get 3, 5, 6, and 9. The sum of these multiples is 23. Find the sum of all the multiples of 3 and 5 below 1,000. Afterward, write a brief explanation walking through your code's logic in markdown.\n",
    "\n",
    "\n",
    "### Challenge 2: Largest Palindrome \n",
    "A palindromic number reads the same both ways. For example, 1234321 is a palindrome. The largest palindrome made from the product of two two-digit numbers is 9009 = 91 × 99. Find the largest palindrome made from the product of two three-digit numbers. Afterward, write a brief explanation walking through your code's logic in markdown.\n",
    "\n"
   ]
  },
  {
   "cell_type": "code",
   "execution_count": 4,
   "metadata": {},
   "outputs": [],
   "source": [
    "import numpy as np\n"
   ]
  },
  {
   "cell_type": "code",
   "execution_count": 6,
   "metadata": {},
   "outputs": [
    {
     "name": "stdout",
     "output_type": "stream",
     "text": [
      "[ 15  30  45  60  75  90 105 120 135 150 165 180 195 210 225 240 255 270\n",
      " 285 300 315 330 345 360 375 390 405 420 435 450 465 480 495 510 525 540\n",
      " 555 570 585 600 615 630 645 660 675 690 705 720 735 750 765 780 795 810\n",
      " 825 840 855 870 885 900 915 930 945 960 975 990]\n"
     ]
    }
   ],
   "source": [
    "x = np.arange(1, 1000)\n",
    "# find  multiple of 3 and 5\n",
    "n= x[(x % 3 == 0) & (x % 5 == 0)]\n",
    "print(n[:1000])\n"
   ]
  },
  {
   "cell_type": "code",
   "execution_count": 7,
   "metadata": {},
   "outputs": [
    {
     "name": "stdout",
     "output_type": "stream",
     "text": [
      "33165\n"
     ]
    }
   ],
   "source": [
    "# print sum the numbers\n",
    "print(n.sum())"
   ]
  },
  {
   "cell_type": "code",
   "execution_count": 8,
   "metadata": {},
   "outputs": [],
   "source": [
    "name = 'Starr Y Taur'"
   ]
  },
  {
   "cell_type": "code",
   "execution_count": 9,
   "metadata": {},
   "outputs": [
    {
     "data": {
      "text/plain": [
       "'ruaT Y rratS'"
      ]
     },
     "execution_count": 9,
     "metadata": {},
     "output_type": "execute_result"
    }
   ],
   "source": [
    "name[::-1]"
   ]
  },
  {
   "cell_type": "code",
   "execution_count": 11,
   "metadata": {},
   "outputs": [
    {
     "name": "stdout",
     "output_type": "stream",
     "text": [
      "906609\n"
     ]
    }
   ],
   "source": [
    "max_pal = 0\n",
    "for i in range(100,999):\n",
    "    for j in range(100,999):\n",
    "      mult = i * j \n",
    "      if str(mult) == str(mult)[::-1]: #Check if the number is palindrome\n",
    "          if mult > max_pal: #if the product is greater than 0, then 0 \n",
    "              max_pal = mult\n",
    "print (max_pal)\n"
   ]
  },
  {
   "cell_type": "code",
   "execution_count": null,
   "metadata": {},
   "outputs": [],
   "source": []
  }
 ],
 "metadata": {
  "kernelspec": {
   "display_name": "Python 3",
   "language": "python",
   "name": "python3"
  },
  "language_info": {
   "codemirror_mode": {
    "name": "ipython",
    "version": 3
   },
   "file_extension": ".py",
   "mimetype": "text/x-python",
   "name": "python",
   "nbconvert_exporter": "python",
   "pygments_lexer": "ipython3",
   "version": "3.7.3"
  }
 },
 "nbformat": 4,
 "nbformat_minor": 4
}
