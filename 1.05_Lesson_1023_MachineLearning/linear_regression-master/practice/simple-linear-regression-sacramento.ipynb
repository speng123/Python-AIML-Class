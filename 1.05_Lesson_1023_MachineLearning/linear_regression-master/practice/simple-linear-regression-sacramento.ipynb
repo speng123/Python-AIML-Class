{
 "cells": [
  {
   "cell_type": "markdown",
   "metadata": {},
   "source": [
    "<img src=\"http://imgur.com/1ZcRyrc.png\" style=\"float: left; margin: 20px; height: 55px\">\n",
    "\n",
    "# Simple Linear Regression with Sacramento Real Estate Data\n",
    "\n",
    "_Authors: Matt Brems, Sam Stack_\n",
    "\n",
    "---\n",
    "\n",
    "In this lab you will hone your EDA skills and practice constructing simple linear regressions using a dataset on Sacramento real estate sales.  The dataset contains information on qualities of the property, location of the property, and time of sale."
   ]
  },
  {
   "cell_type": "markdown",
   "metadata": {},
   "source": [
    "### 1. Read in the Sacramento housing data set."
   ]
  },
  {
   "cell_type": "code",
   "execution_count": 5,
   "metadata": {},
   "outputs": [],
   "source": [
    "sac_csv = pd.read_csv('../data/sacramento_real_estate_transactions.csv')"
   ]
  },
  {
   "cell_type": "code",
   "execution_count": 6,
   "metadata": {
    "collapsed": false,
    "jupyter": {
     "outputs_hidden": false
    }
   },
   "outputs": [],
   "source": [
    "import pandas as pd\n",
    "import seaborn as sns\n",
    "import matplotlib.pyplot as plt\n",
    "import numpy as np\n",
    "import scipy.stats\n",
    "\n",
    "%matplotlib inline"
   ]
  },
  {
   "cell_type": "markdown",
   "metadata": {},
   "source": [
    "### 2. Conduct exploratory data analysis on this data set. \n",
    "\n",
    "**Report any notable findings here and any steps you take to clean/process data.**\n",
    "\n",
    "> **Note:** These EDA checks should be done on every data set we give you. If you find yourself checking for, say, missing/corrupted data over and over, it might be to your long-term benefit to have a function that you can re-use every time you're given some new data."
   ]
  },
  {
   "cell_type": "code",
   "execution_count": 7,
   "metadata": {
    "collapsed": false,
    "jupyter": {
     "outputs_hidden": false
    }
   },
   "outputs": [
    {
     "data": {
      "text/html": [
       "<div>\n",
       "<style scoped>\n",
       "    .dataframe tbody tr th:only-of-type {\n",
       "        vertical-align: middle;\n",
       "    }\n",
       "\n",
       "    .dataframe tbody tr th {\n",
       "        vertical-align: top;\n",
       "    }\n",
       "\n",
       "    .dataframe thead th {\n",
       "        text-align: right;\n",
       "    }\n",
       "</style>\n",
       "<table border=\"1\" class=\"dataframe\">\n",
       "  <thead>\n",
       "    <tr style=\"text-align: right;\">\n",
       "      <th></th>\n",
       "      <th>street</th>\n",
       "      <th>city</th>\n",
       "      <th>zip</th>\n",
       "      <th>state</th>\n",
       "      <th>beds</th>\n",
       "      <th>baths</th>\n",
       "      <th>sq__ft</th>\n",
       "      <th>type</th>\n",
       "      <th>sale_date</th>\n",
       "      <th>price</th>\n",
       "      <th>latitude</th>\n",
       "      <th>longitude</th>\n",
       "    </tr>\n",
       "  </thead>\n",
       "  <tbody>\n",
       "    <tr>\n",
       "      <th>count</th>\n",
       "      <td>985</td>\n",
       "      <td>985</td>\n",
       "      <td>985.000000</td>\n",
       "      <td>985</td>\n",
       "      <td>985.000000</td>\n",
       "      <td>985.000000</td>\n",
       "      <td>985.000000</td>\n",
       "      <td>985</td>\n",
       "      <td>985</td>\n",
       "      <td>985.000000</td>\n",
       "      <td>985.000000</td>\n",
       "      <td>985.000000</td>\n",
       "    </tr>\n",
       "    <tr>\n",
       "      <th>unique</th>\n",
       "      <td>981</td>\n",
       "      <td>39</td>\n",
       "      <td>NaN</td>\n",
       "      <td>2</td>\n",
       "      <td>NaN</td>\n",
       "      <td>NaN</td>\n",
       "      <td>NaN</td>\n",
       "      <td>4</td>\n",
       "      <td>5</td>\n",
       "      <td>NaN</td>\n",
       "      <td>NaN</td>\n",
       "      <td>NaN</td>\n",
       "    </tr>\n",
       "    <tr>\n",
       "      <th>top</th>\n",
       "      <td>1223 LAMBERTON CIR</td>\n",
       "      <td>SACRAMENTO</td>\n",
       "      <td>NaN</td>\n",
       "      <td>CA</td>\n",
       "      <td>NaN</td>\n",
       "      <td>NaN</td>\n",
       "      <td>NaN</td>\n",
       "      <td>Residential</td>\n",
       "      <td>Mon May 19 00:00:00 EDT 2008</td>\n",
       "      <td>NaN</td>\n",
       "      <td>NaN</td>\n",
       "      <td>NaN</td>\n",
       "    </tr>\n",
       "    <tr>\n",
       "      <th>freq</th>\n",
       "      <td>2</td>\n",
       "      <td>439</td>\n",
       "      <td>NaN</td>\n",
       "      <td>984</td>\n",
       "      <td>NaN</td>\n",
       "      <td>NaN</td>\n",
       "      <td>NaN</td>\n",
       "      <td>917</td>\n",
       "      <td>268</td>\n",
       "      <td>NaN</td>\n",
       "      <td>NaN</td>\n",
       "      <td>NaN</td>\n",
       "    </tr>\n",
       "    <tr>\n",
       "      <th>mean</th>\n",
       "      <td>NaN</td>\n",
       "      <td>NaN</td>\n",
       "      <td>95750.697462</td>\n",
       "      <td>NaN</td>\n",
       "      <td>2.911675</td>\n",
       "      <td>1.776650</td>\n",
       "      <td>1312.918782</td>\n",
       "      <td>NaN</td>\n",
       "      <td>NaN</td>\n",
       "      <td>233715.951269</td>\n",
       "      <td>38.445121</td>\n",
       "      <td>-121.193371</td>\n",
       "    </tr>\n",
       "    <tr>\n",
       "      <th>std</th>\n",
       "      <td>NaN</td>\n",
       "      <td>NaN</td>\n",
       "      <td>85.176072</td>\n",
       "      <td>NaN</td>\n",
       "      <td>1.307932</td>\n",
       "      <td>0.895371</td>\n",
       "      <td>856.123224</td>\n",
       "      <td>NaN</td>\n",
       "      <td>NaN</td>\n",
       "      <td>139088.818896</td>\n",
       "      <td>5.103637</td>\n",
       "      <td>5.100670</td>\n",
       "    </tr>\n",
       "    <tr>\n",
       "      <th>min</th>\n",
       "      <td>NaN</td>\n",
       "      <td>NaN</td>\n",
       "      <td>95603.000000</td>\n",
       "      <td>NaN</td>\n",
       "      <td>0.000000</td>\n",
       "      <td>0.000000</td>\n",
       "      <td>-984.000000</td>\n",
       "      <td>NaN</td>\n",
       "      <td>NaN</td>\n",
       "      <td>-210944.000000</td>\n",
       "      <td>-121.503471</td>\n",
       "      <td>-121.551704</td>\n",
       "    </tr>\n",
       "    <tr>\n",
       "      <th>25%</th>\n",
       "      <td>NaN</td>\n",
       "      <td>NaN</td>\n",
       "      <td>95660.000000</td>\n",
       "      <td>NaN</td>\n",
       "      <td>2.000000</td>\n",
       "      <td>1.000000</td>\n",
       "      <td>950.000000</td>\n",
       "      <td>NaN</td>\n",
       "      <td>NaN</td>\n",
       "      <td>145000.000000</td>\n",
       "      <td>38.482704</td>\n",
       "      <td>-121.446119</td>\n",
       "    </tr>\n",
       "    <tr>\n",
       "      <th>50%</th>\n",
       "      <td>NaN</td>\n",
       "      <td>NaN</td>\n",
       "      <td>95762.000000</td>\n",
       "      <td>NaN</td>\n",
       "      <td>3.000000</td>\n",
       "      <td>2.000000</td>\n",
       "      <td>1304.000000</td>\n",
       "      <td>NaN</td>\n",
       "      <td>NaN</td>\n",
       "      <td>213750.000000</td>\n",
       "      <td>38.625932</td>\n",
       "      <td>-121.375799</td>\n",
       "    </tr>\n",
       "    <tr>\n",
       "      <th>75%</th>\n",
       "      <td>NaN</td>\n",
       "      <td>NaN</td>\n",
       "      <td>95828.000000</td>\n",
       "      <td>NaN</td>\n",
       "      <td>4.000000</td>\n",
       "      <td>2.000000</td>\n",
       "      <td>1718.000000</td>\n",
       "      <td>NaN</td>\n",
       "      <td>NaN</td>\n",
       "      <td>300000.000000</td>\n",
       "      <td>38.695589</td>\n",
       "      <td>-121.294893</td>\n",
       "    </tr>\n",
       "    <tr>\n",
       "      <th>max</th>\n",
       "      <td>NaN</td>\n",
       "      <td>NaN</td>\n",
       "      <td>95864.000000</td>\n",
       "      <td>NaN</td>\n",
       "      <td>8.000000</td>\n",
       "      <td>5.000000</td>\n",
       "      <td>5822.000000</td>\n",
       "      <td>NaN</td>\n",
       "      <td>NaN</td>\n",
       "      <td>884790.000000</td>\n",
       "      <td>39.020808</td>\n",
       "      <td>38.668433</td>\n",
       "    </tr>\n",
       "  </tbody>\n",
       "</table>\n",
       "</div>"
      ],
      "text/plain": [
       "                    street        city           zip state        beds  \\\n",
       "count                  985         985    985.000000   985  985.000000   \n",
       "unique                 981          39           NaN     2         NaN   \n",
       "top     1223 LAMBERTON CIR  SACRAMENTO           NaN    CA         NaN   \n",
       "freq                     2         439           NaN   984         NaN   \n",
       "mean                   NaN         NaN  95750.697462   NaN    2.911675   \n",
       "std                    NaN         NaN     85.176072   NaN    1.307932   \n",
       "min                    NaN         NaN  95603.000000   NaN    0.000000   \n",
       "25%                    NaN         NaN  95660.000000   NaN    2.000000   \n",
       "50%                    NaN         NaN  95762.000000   NaN    3.000000   \n",
       "75%                    NaN         NaN  95828.000000   NaN    4.000000   \n",
       "max                    NaN         NaN  95864.000000   NaN    8.000000   \n",
       "\n",
       "             baths       sq__ft         type                     sale_date  \\\n",
       "count   985.000000   985.000000          985                           985   \n",
       "unique         NaN          NaN            4                             5   \n",
       "top            NaN          NaN  Residential  Mon May 19 00:00:00 EDT 2008   \n",
       "freq           NaN          NaN          917                           268   \n",
       "mean      1.776650  1312.918782          NaN                           NaN   \n",
       "std       0.895371   856.123224          NaN                           NaN   \n",
       "min       0.000000  -984.000000          NaN                           NaN   \n",
       "25%       1.000000   950.000000          NaN                           NaN   \n",
       "50%       2.000000  1304.000000          NaN                           NaN   \n",
       "75%       2.000000  1718.000000          NaN                           NaN   \n",
       "max       5.000000  5822.000000          NaN                           NaN   \n",
       "\n",
       "                price    latitude   longitude  \n",
       "count      985.000000  985.000000  985.000000  \n",
       "unique            NaN         NaN         NaN  \n",
       "top               NaN         NaN         NaN  \n",
       "freq              NaN         NaN         NaN  \n",
       "mean    233715.951269   38.445121 -121.193371  \n",
       "std     139088.818896    5.103637    5.100670  \n",
       "min    -210944.000000 -121.503471 -121.551704  \n",
       "25%     145000.000000   38.482704 -121.446119  \n",
       "50%     213750.000000   38.625932 -121.375799  \n",
       "75%     300000.000000   38.695589 -121.294893  \n",
       "max     884790.000000   39.020808   38.668433  "
      ]
     },
     "execution_count": 7,
     "metadata": {},
     "output_type": "execute_result"
    }
   ],
   "source": [
    "# A:\n",
    "sac_csv.head()\n",
    "sac_csv.describe(include = 'all')"
   ]
  },
  {
   "cell_type": "code",
   "execution_count": 8,
   "metadata": {},
   "outputs": [],
   "source": [
    "corr = sac_csv.corr()"
   ]
  },
  {
   "cell_type": "code",
   "execution_count": 10,
   "metadata": {},
   "outputs": [
    {
     "data": {
      "text/plain": [
       "<matplotlib.axes._subplots.AxesSubplot at 0x2371e121320>"
      ]
     },
     "execution_count": 10,
     "metadata": {},
     "output_type": "execute_result"
    },
    {
     "data": {
      "image/png": "[encoded data removed]",
      "text/plain": [
       "<Figure size 432x288 with 2 Axes>"
      ]
     },
     "metadata": {
      "needs_background": "light"
     },
     "output_type": "display_data"
    }
   ],
   "source": [
    "sns.heatmap(corr, annot=True)"
   ]
  },
  {
   "cell_type": "markdown",
   "metadata": {},
   "source": [
    "### 3. Our goal will be to predict price. List variables that you think qualify as predictors of price in a SLR model. \n",
    "\n",
    "**For each of these variables you believe to be valid potential predictors in an SLR model, generate a plot showing the relationship between the independent variable and dependent variable.**"
   ]
  },
  {
   "cell_type": "code",
   "execution_count": 13,
   "metadata": {},
   "outputs": [
    {
     "data": {
      "text/plain": [
       "<matplotlib.collections.PathCollection at 0x2371e55f630>"
      ]
     },
     "execution_count": 13,
     "metadata": {},
     "output_type": "execute_result"
    },
    {
     "data": {
      "image/png": "[encoded data removed]",
      "text/plain": [
       "<Figure size 432x288 with 1 Axes>"
      ]
     },
     "metadata": {
      "needs_background": "light"
     },
     "output_type": "display_data"
    }
   ],
   "source": [
    "# A\n",
    "plt.scatter(sac_csv.sq__ft, sac_csv.price)"
   ]
  },
  {
   "cell_type": "markdown",
   "metadata": {},
   "source": [
    "### 4. Which variable would be the best predictor of Y in a SLR model? Why?"
   ]
  },
  {
   "cell_type": "code",
   "execution_count": 5,
   "metadata": {
    "collapsed": true,
    "jupyter": {
     "outputs_hidden": true
    }
   },
   "outputs": [],
   "source": [
    "# A:"
   ]
  },
  {
   "cell_type": "markdown",
   "metadata": {},
   "source": [
    "### 5. Build a function that will take in two lists `Y` and `X` and returns the intercept and slope coefficients that minimize SSE. \n",
    "\n",
    "`Y` is the target variable and `X` is the predictor variable.\n",
    "\n",
    "- **Test your function on price and the variable you determined was the best predictor in Problem 4.**\n",
    "- **Report the slope and intercept.**"
   ]
  },
  {
   "cell_type": "code",
   "execution_count": 16,
   "metadata": {
    "collapsed": false,
    "jupyter": {
     "outputs_hidden": false
    }
   },
   "outputs": [],
   "source": [
    "# A:\n",
    "from sklearn.linear_model import LinearRegression\n",
    "def lin_regressor(x,y):\n",
    "    lr = LinearRegression()\n",
    "    lr.fit(x,y)\n",
    "    coefs = lr.coef_\n",
    "    intercept = lr.intercept_\n",
    "    return coefs, intercept"
   ]
  },
  {
   "cell_type": "markdown",
   "metadata": {},
   "source": [
    "### 6. Interpret the intercept. Interpret the slope."
   ]
  },
  {
   "cell_type": "code",
   "execution_count": 15,
   "metadata": {},
   "outputs": [
    {
     "ename": "ValueError",
     "evalue": "Expected 2D array, got 1D array instead:\narray=[  59222   68212   68880   69307   81900   89921   90895   91002   94905\n   98937  100309  106250  106852  107502  108750  110700  113263  116250\n  120000  121630  122000  122682  123000  124100  125000  126640  127281\n  129000  131200  132000  133000  134555  136500  138750  141000  146250\n  147308  148750  149593  150000  152000  154000  156896  161250  161500\n  164000  165000  166357  166357  168000  170000  173000  174250  174313\n  178480  178760  179580  181000  181872  182587  182716  182750  183200\n  188741  189000  192067  194000  194818  195000  198000  199500  200000\n  200000  206000  208000  212864  221000  221000  223058  227887  231477\n  234697  235000  236000  236685  237800  240122  242638  244000  244500\n  244960  245918  250000  250000  250134  254200  254200  258000  260000\n  260014  263500  265000  265000  271742  273750  275086  280908  280987\n  282400  285000  287417  291000  292024  297000  297000  298000  299000\n  304037  311000  315537  320000  320000  328360  334150  335750  335750\n  339500  344250  346210  347029  347650  351300  352000  370000  370500\n  372000  375000  381300  381942  387731  391000  394470  395000  400186\n  415000  425000  430000  445000  460000  461000  489332  510000  539000\n  585000  600000  606238  660000  830000   69000   70000   71000   78000\n   78400   80000   89000   90000   90000   92000   93675   97750   98000\n   98000   99000  100000  106716  111000  111000  114800  120108  123225\n  123750  125000  125000  126000  129000  134000  135000  135500  140000\n  140000  142500  143500  145000  145000  145000  145000  146000  148500\n  149000  150000  150000  152000  156000  156000  156000  157788  161653\n  161829  165000  168000  169000  175000  176250  179000  180000  180400\n  182000  184500  185000  189000  194000  195000  200000  201000  202500\n  205000  205000  205000  205000  207000  210000  211500  215000  215000\n  215500  222381  225000  225000  225000  225000  228000  229665  230000\n  230000  230000  234000  235000  236250  240000  242000  245000  245000\n  245000  250000  250000  250000  250000  255000  256054  257729  260000\n  261000  261800  264469  265000  270000  270000  270000  270000  275000\n  275000  280000  286013  292000  292000  293993  294000  296769  297500\n  300000  300000  300000  300000  300500  305000  306500  312500  315000\n  319789  330000  330000  331000  334000  336000  339000  339000  345000\n  350000  356000  361745  361948  370000  380000  385000  399000  402000\n  406026  420000  425000  425000  433500  436746  438700  445000  450000\n  460000  460000  460000  465000  471750  480000  484000  485000  495000\n  500500  504000  541000  560000  572500  582000  613401  614000  680000\n  699000  839000   40000   48000   61500   62050   65000   65000   68000\n   68000   77000   82732   84000   84675   85000   90000   90000   91000\n   95000   97500  100000  100000  101000  102750  112500  113000  114000\n  114000  114750  115000  115000  116100  119250  120000  120000  120000\n  120108  121500  121725  122000  123000  125000  125573  126714  126960\n  127000  127500  130000  133105  136500  139500  140000  140800  145000\n  147000  149600  150000  150000  150000  155000  155435  155500  158000\n  158000  160000  160000  164000  164000  165000  167000  167293  167293\n  168000  170000  170000  170000  174000  178000  180000  180000  180000\n  182000  188325  191500  192000  192700  195000  197654  198000  200345\n  203000  207000  208000  210000  212000  213675  213697  215000  215000\n  215100  217500  218000  220000  221000  222900  223139  225500  228327\n  230000  230000  230522  231200  232000  232500  233641  234000  234500\n  235000  236000  236073  238000  238861  239700  240000  240000  241000\n  245000  246000  247234  247480  249862  251000  252155  254172  258000\n  260000  261000  261000  261000  262500  266000  266000  270000  274425\n  274500  275336  277980  280000  284686  284893  285000  285000  285000\n  289000  295000  296000  296056  297359  299940  304000  305000  307000\n  311328  313138  316630  320000  320000  325000  328578  331000  331500\n  340000  344755  345746  351000  353767  355000  356035  360000  360552\n  362305  365000  367554  368500  370000  371086  378000  383000  388000\n  395100  400000  400000  408431  413000  416767  420000  423000  423000\n  427500  430922  445000  450000  452000  470000  471000  475000  484500\n  487500  488750  500000  506688  512000  520000  528000  579093  636000\n  668365  676200  677048  691659  760000    4897    4897    4897    4897\n    4897    4897    4897    4897    4897    4897    4897    4897    4897\n    4897    4897    4897    4897    4897    4897    4897    4897    4897\n    4897    4897    4897    4897    4897    4897    4897    4897    4897\n    4897    4897    4897    4897    4897    4897    4897    4897    4897\n    4897    4897    4897    4897    4897    4897    4897    4897    4897\n   30000   30000   55422   63000   65000   65000   65000   66500   71000\n   75000   77000   85000   95625   96140  104250  105000  108000  109000\n  115000  115000  115500  115620  116000  122000  122500  123000  124000\n  124000  124413  125000  130000  131750  137721  137760  138000  140000\n  145000  145000  150000  150000  151000  155000  155800  156142  158000\n  159900  160000  161500  161600  162000  165000  165000  167293  168000\n  168000  168750  168750  170000  170250  173000  175000  176095  176250\n  178000  179000  180000  180000  180000  181000  182000  182587  185074\n  185833  186785  187000  188335  190000  190000  190000  190000  191250\n  193000  193500  194818  195000  195000  195000  195000  198000  199900\n  200000  201000  204918  205000  205000  205878  207000  207744  209000\n  210000 -210944  212500  213750  215000  215000  215000  216033  220000\n  220000  220000  220000  220000  220702  221250  222000  222500  222750\n  225000  225000  228750  229000  230095  232500  233000  233500  239000\n  240000  240000  240971  242000  243450  243500  246544  246750  247000\n  247000  249000  249000  250000  250000  250000  252000  255000  255000\n  255000  257200  260000  260000  263500  266510  267750  270000  271000\n  272700  275000  275000  276000  276500  278000  279000  280000  280000\n  285000  288000  289000  290000  290000  293996  294000  294173  295000\n  298000  298000  299000  300000  300000  300000  300567  303000  305000\n  306000  310000  310000  310000  311518  312000  313000  315000  315000\n  315000  315000  315000  320000  322000  325000  325500  326951  328370\n  330000  330000  331200  332000  334000  335000  341000  346375  347225\n  349000  350000  350000  350000  350000  351000  356200  360000  367463\n  375000  380000  380578  386222  389000  390000  395500  396000  397000\n  400000  400000  412500  413500  415000  420454  425000  425000  433500\n  438000  441000  445000  446000  450000  455000  460000  475000  490000\n  493000  508000  511000  525000  533000  545000  560000  575000  575000\n  598695  600000  600000  600000  600000  610000  622500  680000  879000\n  884790    1551    2000   56950   60000   61000   62000   68566   70000\n   80000   85500   92000   93600   95000   97750  104000  105000  107666\n  109000  110000  110000  112500  114800  116000  119000  121500  122000\n  123675  126854  127059  128687  129500  130000  131750  132000  134000\n  134000  138000  142000  143012  145846  147000  148750  150000  150454\n  151087  157296  157500  160000  160000  161250  164000  165000  165000\n  165750  166000  169000  170000  170000  170000  170000  170725  171750\n  172000  173056  174000  174250  176850  179500  185000  188000  188700\n  189000  189000  189836  190000  191250  191675  195500  198000  200000\n  200000  200000  200100  201528  204750  205000  205000  205900  207000\n  207973  208250  208318  209347  211500  212000  213000  216000  216021\n  219000  219794  220000  220000  220000  220000  223000  224000  224000\n  224252  224500  225000  228000  229027  229500  230000  230000  232425\n  234000  235000  235301  235738].\nReshape your data either using array.reshape(-1, 1) if your data has a single feature or array.reshape(1, -1) if it contains a single sample.",
     "output_type": "error",
     "traceback": [
      "\u001b[1;31m---------------------------------------------------------------------------\u001b[0m",
      "\u001b[1;31mValueError\u001b[0m                                Traceback (most recent call last)",
      "\u001b[1;32m<ipython-input-15-5a6d31fbfc6a>\u001b[0m in \u001b[0;36m<module>\u001b[1;34m\u001b[0m\n\u001b[0;32m      1\u001b[0m \u001b[1;31m# A:\u001b[0m\u001b[1;33m\u001b[0m\u001b[1;33m\u001b[0m\u001b[1;33m\u001b[0m\u001b[0m\n\u001b[1;32m----> 2\u001b[1;33m \u001b[0mlin_regressor\u001b[0m\u001b[1;33m(\u001b[0m\u001b[0msac_csv\u001b[0m\u001b[1;33m.\u001b[0m\u001b[0mprice\u001b[0m\u001b[1;33m,\u001b[0m \u001b[0msac_csv\u001b[0m\u001b[1;33m[\u001b[0m\u001b[1;33m[\u001b[0m\u001b[1;34m'sq__ft'\u001b[0m\u001b[1;33m]\u001b[0m\u001b[1;33m]\u001b[0m\u001b[1;33m)\u001b[0m\u001b[1;33m\u001b[0m\u001b[1;33m\u001b[0m\u001b[0m\n\u001b[0m",
      "\u001b[1;32m<ipython-input-14-f96a72a1e89c>\u001b[0m in \u001b[0;36mlin_regressor\u001b[1;34m(x, y)\u001b[0m\n\u001b[0;32m      3\u001b[0m \u001b[1;32mdef\u001b[0m \u001b[0mlin_regressor\u001b[0m\u001b[1;33m(\u001b[0m\u001b[0mx\u001b[0m\u001b[1;33m,\u001b[0m\u001b[0my\u001b[0m\u001b[1;33m)\u001b[0m\u001b[1;33m:\u001b[0m\u001b[1;33m\u001b[0m\u001b[1;33m\u001b[0m\u001b[0m\n\u001b[0;32m      4\u001b[0m     \u001b[0mlr\u001b[0m \u001b[1;33m=\u001b[0m \u001b[0mLinearRegression\u001b[0m\u001b[1;33m(\u001b[0m\u001b[1;33m)\u001b[0m\u001b[1;33m\u001b[0m\u001b[1;33m\u001b[0m\u001b[0m\n\u001b[1;32m----> 5\u001b[1;33m     \u001b[0mlr\u001b[0m\u001b[1;33m.\u001b[0m\u001b[0mfit\u001b[0m\u001b[1;33m(\u001b[0m\u001b[0mx\u001b[0m\u001b[1;33m,\u001b[0m\u001b[0my\u001b[0m\u001b[1;33m)\u001b[0m\u001b[1;33m\u001b[0m\u001b[1;33m\u001b[0m\u001b[0m\n\u001b[0m\u001b[0;32m      6\u001b[0m     \u001b[0mcoefs\u001b[0m \u001b[1;33m=\u001b[0m \u001b[0mlr\u001b[0m\u001b[1;33m.\u001b[0m\u001b[0mcoef_\u001b[0m\u001b[1;33m\u001b[0m\u001b[1;33m\u001b[0m\u001b[0m\n\u001b[0;32m      7\u001b[0m     \u001b[0mintercept\u001b[0m \u001b[1;33m=\u001b[0m \u001b[0mlr\u001b[0m\u001b[1;33m.\u001b[0m\u001b[0mintercept_\u001b[0m\u001b[1;33m\u001b[0m\u001b[1;33m\u001b[0m\u001b[0m\n",
      "\u001b[1;32m~\\Anaconda3\\lib\\site-packages\\sklearn\\linear_model\\base.py\u001b[0m in \u001b[0;36mfit\u001b[1;34m(self, X, y, sample_weight)\u001b[0m\n\u001b[0;32m    461\u001b[0m         \u001b[0mn_jobs_\u001b[0m \u001b[1;33m=\u001b[0m \u001b[0mself\u001b[0m\u001b[1;33m.\u001b[0m\u001b[0mn_jobs\u001b[0m\u001b[1;33m\u001b[0m\u001b[1;33m\u001b[0m\u001b[0m\n\u001b[0;32m    462\u001b[0m         X, y = check_X_y(X, y, accept_sparse=['csr', 'csc', 'coo'],\n\u001b[1;32m--> 463\u001b[1;33m                          y_numeric=True, multi_output=True)\n\u001b[0m\u001b[0;32m    464\u001b[0m \u001b[1;33m\u001b[0m\u001b[0m\n\u001b[0;32m    465\u001b[0m         \u001b[1;32mif\u001b[0m \u001b[0msample_weight\u001b[0m \u001b[1;32mis\u001b[0m \u001b[1;32mnot\u001b[0m \u001b[1;32mNone\u001b[0m \u001b[1;32mand\u001b[0m \u001b[0mnp\u001b[0m\u001b[1;33m.\u001b[0m\u001b[0matleast_1d\u001b[0m\u001b[1;33m(\u001b[0m\u001b[0msample_weight\u001b[0m\u001b[1;33m)\u001b[0m\u001b[1;33m.\u001b[0m\u001b[0mndim\u001b[0m \u001b[1;33m>\u001b[0m \u001b[1;36m1\u001b[0m\u001b[1;33m:\u001b[0m\u001b[1;33m\u001b[0m\u001b[1;33m\u001b[0m\u001b[0m\n",
      "\u001b[1;32m~\\Anaconda3\\lib\\site-packages\\sklearn\\utils\\validation.py\u001b[0m in \u001b[0;36mcheck_X_y\u001b[1;34m(X, y, accept_sparse, accept_large_sparse, dtype, order, copy, force_all_finite, ensure_2d, allow_nd, multi_output, ensure_min_samples, ensure_min_features, y_numeric, warn_on_dtype, estimator)\u001b[0m\n\u001b[0;32m    717\u001b[0m                     \u001b[0mensure_min_features\u001b[0m\u001b[1;33m=\u001b[0m\u001b[0mensure_min_features\u001b[0m\u001b[1;33m,\u001b[0m\u001b[1;33m\u001b[0m\u001b[1;33m\u001b[0m\u001b[0m\n\u001b[0;32m    718\u001b[0m                     \u001b[0mwarn_on_dtype\u001b[0m\u001b[1;33m=\u001b[0m\u001b[0mwarn_on_dtype\u001b[0m\u001b[1;33m,\u001b[0m\u001b[1;33m\u001b[0m\u001b[1;33m\u001b[0m\u001b[0m\n\u001b[1;32m--> 719\u001b[1;33m                     estimator=estimator)\n\u001b[0m\u001b[0;32m    720\u001b[0m     \u001b[1;32mif\u001b[0m \u001b[0mmulti_output\u001b[0m\u001b[1;33m:\u001b[0m\u001b[1;33m\u001b[0m\u001b[1;33m\u001b[0m\u001b[0m\n\u001b[0;32m    721\u001b[0m         y = check_array(y, 'csr', force_all_finite=True, ensure_2d=False,\n",
      "\u001b[1;32m~\\Anaconda3\\lib\\site-packages\\sklearn\\utils\\validation.py\u001b[0m in \u001b[0;36mcheck_array\u001b[1;34m(array, accept_sparse, accept_large_sparse, dtype, order, copy, force_all_finite, ensure_2d, allow_nd, ensure_min_samples, ensure_min_features, warn_on_dtype, estimator)\u001b[0m\n\u001b[0;32m    519\u001b[0m                     \u001b[1;34m\"Reshape your data either using array.reshape(-1, 1) if \"\u001b[0m\u001b[1;33m\u001b[0m\u001b[1;33m\u001b[0m\u001b[0m\n\u001b[0;32m    520\u001b[0m                     \u001b[1;34m\"your data has a single feature or array.reshape(1, -1) \"\u001b[0m\u001b[1;33m\u001b[0m\u001b[1;33m\u001b[0m\u001b[0m\n\u001b[1;32m--> 521\u001b[1;33m                     \"if it contains a single sample.\".format(array))\n\u001b[0m\u001b[0;32m    522\u001b[0m \u001b[1;33m\u001b[0m\u001b[0m\n\u001b[0;32m    523\u001b[0m         \u001b[1;31m# in the future np.flexible dtypes will be handled like object dtypes\u001b[0m\u001b[1;33m\u001b[0m\u001b[1;33m\u001b[0m\u001b[1;33m\u001b[0m\u001b[0m\n",
      "\u001b[1;31mValueError\u001b[0m: Expected 2D array, got 1D array instead:\narray=[  59222   68212   68880   69307   81900   89921   90895   91002   94905\n   98937  100309  106250  106852  107502  108750  110700  113263  116250\n  120000  121630  122000  122682  123000  124100  125000  126640  127281\n  129000  131200  132000  133000  134555  136500  138750  141000  146250\n  147308  148750  149593  150000  152000  154000  156896  161250  161500\n  164000  165000  166357  166357  168000  170000  173000  174250  174313\n  178480  178760  179580  181000  181872  182587  182716  182750  183200\n  188741  189000  192067  194000  194818  195000  198000  199500  200000\n  200000  206000  208000  212864  221000  221000  223058  227887  231477\n  234697  235000  236000  236685  237800  240122  242638  244000  244500\n  244960  245918  250000  250000  250134  254200  254200  258000  260000\n  260014  263500  265000  265000  271742  273750  275086  280908  280987\n  282400  285000  287417  291000  292024  297000  297000  298000  299000\n  304037  311000  315537  320000  320000  328360  334150  335750  335750\n  339500  344250  346210  347029  347650  351300  352000  370000  370500\n  372000  375000  381300  381942  387731  391000  394470  395000  400186\n  415000  425000  430000  445000  460000  461000  489332  510000  539000\n  585000  600000  606238  660000  830000   69000   70000   71000   78000\n   78400   80000   89000   90000   90000   92000   93675   97750   98000\n   98000   99000  100000  106716  111000  111000  114800  120108  123225\n  123750  125000  125000  126000  129000  134000  135000  135500  140000\n  140000  142500  143500  145000  145000  145000  145000  146000  148500\n  149000  150000  150000  152000  156000  156000  156000  157788  161653\n  161829  165000  168000  169000  175000  176250  179000  180000  180400\n  182000  184500  185000  189000  194000  195000  200000  201000  202500\n  205000  205000  205000  205000  207000  210000  211500  215000  215000\n  215500  222381  225000  225000  225000  225000  228000  229665  230000\n  230000  230000  234000  235000  236250  240000  242000  245000  245000\n  245000  250000  250000  250000  250000  255000  256054  257729  260000\n  261000  261800  264469  265000  270000  270000  270000  270000  275000\n  275000  280000  286013  292000  292000  293993  294000  296769  297500\n  300000  300000  300000  300000  300500  305000  306500  312500  315000\n  319789  330000  330000  331000  334000  336000  339000  339000  345000\n  350000  356000  361745  361948  370000  380000  385000  399000  402000\n  406026  420000  425000  425000  433500  436746  438700  445000  450000\n  460000  460000  460000  465000  471750  480000  484000  485000  495000\n  500500  504000  541000  560000  572500  582000  613401  614000  680000\n  699000  839000   40000   48000   61500   62050   65000   65000   68000\n   68000   77000   82732   84000   84675   85000   90000   90000   91000\n   95000   97500  100000  100000  101000  102750  112500  113000  114000\n  114000  114750  115000  115000  116100  119250  120000  120000  120000\n  120108  121500  121725  122000  123000  125000  125573  126714  126960\n  127000  127500  130000  133105  136500  139500  140000  140800  145000\n  147000  149600  150000  150000  150000  155000  155435  155500  158000\n  158000  160000  160000  164000  164000  165000  167000  167293  167293\n  168000  170000  170000  170000  174000  178000  180000  180000  180000\n  182000  188325  191500  192000  192700  195000  197654  198000  200345\n  203000  207000  208000  210000  212000  213675  213697  215000  215000\n  215100  217500  218000  220000  221000  222900  223139  225500  228327\n  230000  230000  230522  231200  232000  232500  233641  234000  234500\n  235000  236000  236073  238000  238861  239700  240000  240000  241000\n  245000  246000  247234  247480  249862  251000  252155  254172  258000\n  260000  261000  261000  261000  262500  266000  266000  270000  274425\n  274500  275336  277980  280000  284686  284893  285000  285000  285000\n  289000  295000  296000  296056  297359  299940  304000  305000  307000\n  311328  313138  316630  320000  320000  325000  328578  331000  331500\n  340000  344755  345746  351000  353767  355000  356035  360000  360552\n  362305  365000  367554  368500  370000  371086  378000  383000  388000\n  395100  400000  400000  408431  413000  416767  420000  423000  423000\n  427500  430922  445000  450000  452000  470000  471000  475000  484500\n  487500  488750  500000  506688  512000  520000  528000  579093  636000\n  668365  676200  677048  691659  760000    4897    4897    4897    4897\n    4897    4897    4897    4897    4897    4897    4897    4897    4897\n    4897    4897    4897    4897    4897    4897    4897    4897    4897\n    4897    4897    4897    4897    4897    4897    4897    4897    4897\n    4897    4897    4897    4897    4897    4897    4897    4897    4897\n    4897    4897    4897    4897    4897    4897    4897    4897    4897\n   30000   30000   55422   63000   65000   65000   65000   66500   71000\n   75000   77000   85000   95625   96140  104250  105000  108000  109000\n  115000  115000  115500  115620  116000  122000  122500  123000  124000\n  124000  124413  125000  130000  131750  137721  137760  138000  140000\n  145000  145000  150000  150000  151000  155000  155800  156142  158000\n  159900  160000  161500  161600  162000  165000  165000  167293  168000\n  168000  168750  168750  170000  170250  173000  175000  176095  176250\n  178000  179000  180000  180000  180000  181000  182000  182587  185074\n  185833  186785  187000  188335  190000  190000  190000  190000  191250\n  193000  193500  194818  195000  195000  195000  195000  198000  199900\n  200000  201000  204918  205000  205000  205878  207000  207744  209000\n  210000 -210944  212500  213750  215000  215000  215000  216033  220000\n  220000  220000  220000  220000  220702  221250  222000  222500  222750\n  225000  225000  228750  229000  230095  232500  233000  233500  239000\n  240000  240000  240971  242000  243450  243500  246544  246750  247000\n  247000  249000  249000  250000  250000  250000  252000  255000  255000\n  255000  257200  260000  260000  263500  266510  267750  270000  271000\n  272700  275000  275000  276000  276500  278000  279000  280000  280000\n  285000  288000  289000  290000  290000  293996  294000  294173  295000\n  298000  298000  299000  300000  300000  300000  300567  303000  305000\n  306000  310000  310000  310000  311518  312000  313000  315000  315000\n  315000  315000  315000  320000  322000  325000  325500  326951  328370\n  330000  330000  331200  332000  334000  335000  341000  346375  347225\n  349000  350000  350000  350000  350000  351000  356200  360000  367463\n  375000  380000  380578  386222  389000  390000  395500  396000  397000\n  400000  400000  412500  413500  415000  420454  425000  425000  433500\n  438000  441000  445000  446000  450000  455000  460000  475000  490000\n  493000  508000  511000  525000  533000  545000  560000  575000  575000\n  598695  600000  600000  600000  600000  610000  622500  680000  879000\n  884790    1551    2000   56950   60000   61000   62000   68566   70000\n   80000   85500   92000   93600   95000   97750  104000  105000  107666\n  109000  110000  110000  112500  114800  116000  119000  121500  122000\n  123675  126854  127059  128687  129500  130000  131750  132000  134000\n  134000  138000  142000  143012  145846  147000  148750  150000  150454\n  151087  157296  157500  160000  160000  161250  164000  165000  165000\n  165750  166000  169000  170000  170000  170000  170000  170725  171750\n  172000  173056  174000  174250  176850  179500  185000  188000  188700\n  189000  189000  189836  190000  191250  191675  195500  198000  200000\n  200000  200000  200100  201528  204750  205000  205000  205900  207000\n  207973  208250  208318  209347  211500  212000  213000  216000  216021\n  219000  219794  220000  220000  220000  220000  223000  224000  224000\n  224252  224500  225000  228000  229027  229500  230000  230000  232425\n  234000  235000  235301  235738].\nReshape your data either using array.reshape(-1, 1) if your data has a single feature or array.reshape(1, -1) if it contains a single sample."
     ]
    }
   ],
   "source": [
    "# A:\n",
    "lin_regressor(sac_csv.price, sac_csv[['sq__ft']])"
   ]
  },
  {
   "cell_type": "markdown",
   "metadata": {},
   "source": [
    "### 7. Give an example of how this model could be used for prediction and how this model could be used for inference. \n",
    "\n",
    "**Be sure to make it clear which example is associated with prediction and which is associated with inference.**"
   ]
  },
  {
   "cell_type": "code",
   "execution_count": 8,
   "metadata": {
    "collapsed": true,
    "jupyter": {
     "outputs_hidden": true
    }
   },
   "outputs": [],
   "source": [
    "# A:"
   ]
  },
  {
   "cell_type": "markdown",
   "metadata": {},
   "source": [
    "### 8: [Bonus] Using the model you came up with in Problem 5, calculate and plot the residuals."
   ]
  },
  {
   "cell_type": "code",
   "execution_count": 1,
   "metadata": {
    "collapsed": true,
    "jupyter": {
     "outputs_hidden": true
    }
   },
   "outputs": [],
   "source": [
    "# A:"
   ]
  },
  {
   "cell_type": "code",
   "execution_count": null,
   "metadata": {},
   "outputs": [],
   "source": []
  }
 ],
 "metadata": {
  "anaconda-cloud": {},
  "kernelspec": {
   "display_name": "Python 3",
   "language": "python",
   "name": "python3"
  },
  "language_info": {
   "codemirror_mode": {
    "name": "ipython",
    "version": 3
   },
   "file_extension": ".py",
   "mimetype": "text/x-python",
   "name": "python",
   "nbconvert_exporter": "python",
   "pygments_lexer": "ipython3",
   "version": "3.7.3"
  }
 },
 "nbformat": 4,
 "nbformat_minor": 4
}
